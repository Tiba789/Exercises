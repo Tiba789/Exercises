{
  "cells": [
    {
      "cell_type": "code",
      "execution_count": null,
      "metadata": {
        "colab": {
          "base_uri": "https://localhost:8080/"
        },
        "id": "2qSuFgxAkvI4",
        "outputId": "559abd0c-8b4e-4176-995e-8b92e578a2a6"
      },
      "outputs": [
        {
          "name": "stdout",
          "output_type": "stream",
          "text": [
            "Tiba\n"
          ]
        }
      ],
      "source": [
        "my_name = \"Tiba\"\n",
        "print(my_name)"
      ]
    },
    {
      "cell_type": "code",
      "execution_count": null,
      "metadata": {
        "colab": {
          "base_uri": "https://localhost:8080/"
        },
        "id": "jfJa9_gVk69d",
        "outputId": "abe280a3-9d4d-4678-e3f9-ad5343c4ee8b"
      },
      "outputs": [
        {
          "name": "stdout",
          "output_type": "stream",
          "text": [
            "41\n"
          ]
        }
      ],
      "source": [
        "my_age = 41\n",
        "print(my_age)"
      ]
    },
    {
      "cell_type": "code",
      "execution_count": null,
      "metadata": {
        "colab": {
          "base_uri": "https://localhost:8080/"
        },
        "id": "0ccbBJ8WkxTR",
        "outputId": "03312c13-44fd-4775-ca37-bbbb8001fed5"
      },
      "outputs": [
        {
          "name": "stdout",
          "output_type": "stream",
          "text": [
            "my age: 41\n",
            "age difference: -9\n"
          ]
        }
      ],
      "source": [
        "julia_age = 32\n",
        "age_diff = julia_age - my_age\n",
        "print(\"my age:\", my_age)\n",
        "print(\"age difference:\", age_diff)"
      ]
    },
    {
      "cell_type": "code",
      "execution_count": null,
      "metadata": {
        "colab": {
          "base_uri": "https://localhost:8080/"
        },
        "id": "BREuXbv-lXj7",
        "outputId": "43a988e6-b323-4de6-a626-6420102925b1"
      },
      "outputs": [
        {
          "name": "stdout",
          "output_type": "stream",
          "text": [
            "I am older than Julia\n"
          ]
        }
      ],
      "source": [
        "if age_diff > 0:\n",
        "    print(\"I am younger than Julia\")\n",
        "elif age_diff < 0:\n",
        "    print(\"I am older than Julia\")\n",
        "else:\n",
        "    print(\"Julia and I are the same age\")"
      ]
    },
    {
      "cell_type": "code",
      "execution_count": null,
      "metadata": {
        "colab": {
          "base_uri": "https://localhost:8080/"
        },
        "id": "CQivyF1tllwu",
        "outputId": "ddf46c34-a494-4f18-a84b-05a7a019e8f4"
      },
      "outputs": [
        {
          "name": "stdout",
          "output_type": "stream",
          "text": [
            "I am older than 21\n"
          ]
        }
      ],
      "source": [
        "if my_age > 21:\n",
        "    print(\"I am older than 21\")\n",
        "else:\n",
        "    print(\"I am younger than 21\")"
      ]
    },
    {
      "cell_type": "code",
      "execution_count": null,
      "metadata": {
        "colab": {
          "base_uri": "https://localhost:8080/"
        },
        "id": "etZCkpsalp5K",
        "outputId": "a73b40a9-3148-4795-8434-2541e7d52cfe"
      },
      "outputs": [
        {
          "name": "stdout",
          "output_type": "stream",
          "text": [
            "I am older than Julia\n"
          ]
        }
      ],
      "source": [
        "if my_age > julia_age:\n",
        "  print(\"I am older than Julia\")\n",
        "elif my_age < julia_age:\n",
        "  print(\"I am younger than Julia\")\n",
        "else:\n",
        "    print(\"I am the same age as Julia\")"
      ]
    },
    {
      "cell_type": "code",
      "execution_count": null,
      "metadata": {
        "colab": {
          "base_uri": "https://localhost:8080/"
        },
        "id": "LkOtZkD4lxvz",
        "outputId": "eaf07a95-38f0-4adb-da45-1252369d7734"
      },
      "outputs": [
        {
          "name": "stdout",
          "output_type": "stream",
          "text": [
            "['Emily', 'Gokce', 'Jost', 'Julien', 'Katha', 'Lucas', 'Marc', 'Muayed', 'Tiba']\n"
          ]
        }
      ],
      "source": [
        "class_name= [\"Tiba\", \"Gokce\", \"Julien\", \"Jost\", \"Muayed\", \"Katha\",\"Marc\",\"Emily\",\"Lucas\"]\n",
        "class_name.sort()\n",
        "print(class_name)\n"
      ]
    },
    {
      "cell_type": "code",
      "execution_count": null,
      "metadata": {
        "colab": {
          "base_uri": "https://localhost:8080/"
        },
        "id": "kye2Qii3l2E9",
        "outputId": "5ee1903d-05f0-4f9a-e779-3afc324ec5cb"
      },
      "outputs": [
        {
          "name": "stdout",
          "output_type": "stream",
          "text": [
            "first name in the class: Emily\n"
          ]
        }
      ],
      "source": [
        "print(\"first name in the class:\",class_name[0])"
      ]
    },
    {
      "cell_type": "code",
      "execution_count": null,
      "metadata": {
        "colab": {
          "base_uri": "https://localhost:8080/"
        },
        "id": "YeOpv5ISl6PW",
        "outputId": "4b8c3879-74bd-4c50-ea65-36424a2e3362"
      },
      "outputs": [
        {
          "name": "stdout",
          "output_type": "stream",
          "text": [
            "last name in the class: Tiba\n"
          ]
        }
      ],
      "source": [
        "print(\"last name in the class:\",class_name[-1])"
      ]
    },
    {
      "cell_type": "code",
      "execution_count": null,
      "metadata": {
        "colab": {
          "base_uri": "https://localhost:8080/"
        },
        "id": "YcFaxQfil9Us",
        "outputId": "2e9e05f2-c2c4-43fe-9411-a3b56f961568"
      },
      "outputs": [
        {
          "name": "stdout",
          "output_type": "stream",
          "text": [
            "all the name in the class:\n",
            "Emily\n",
            "Gokce\n",
            "Jost\n",
            "Julien\n",
            "Katha\n",
            "Lucas\n",
            "Marc\n",
            "Muayed\n",
            "Tiba\n"
          ]
        }
      ],
      "source": [
        "print(\"all the name in the class:\")\n",
        "for name in class_name:\n",
        "    print(name)"
      ]
    },
    {
      "cell_type": "code",
      "execution_count": null,
      "metadata": {
        "colab": {
          "base_uri": "https://localhost:8080/"
        },
        "id": "T5J6urNcmBEH",
        "outputId": "f7f1863f-c620-4e68-aab0-c38ef85b2612"
      },
      "outputs": [
        {
          "name": "stdout",
          "output_type": "stream",
          "text": [
            "all the ages of the group:\n",
            "32\n",
            "43\n",
            "41\n",
            "37\n",
            "39\n",
            "38\n"
          ]
        }
      ],
      "source": [
        "ages=[32,43,41,37,39,38]\n",
        "print(\"all the ages of the group:\")\n",
        "for age in ages:\n",
        "    print(age)\n"
      ]
    },
    {
      "cell_type": "code",
      "execution_count": null,
      "metadata": {
        "colab": {
          "base_uri": "https://localhost:8080/"
        },
        "id": "6F6iyRU3mFAQ",
        "outputId": "e7bf1e6b-83b2-4e7c-bdb4-1520bb7365a2"
      },
      "outputs": [
        {
          "name": "stdout",
          "output_type": "stream",
          "text": [
            "aven ages of students:\n",
            "32\n",
            "38\n"
          ]
        }
      ],
      "source": [
        "print(\"aven ages of students:\")\n",
        "for age in ages:\n",
        "    if age % 2 == 0:\n",
        "        print(age)"
      ]
    },
    {
      "cell_type": "code",
      "execution_count": null,
      "metadata": {
        "colab": {
          "base_uri": "https://localhost:8080/"
        },
        "id": "Xh-UOBTSmKFU",
        "outputId": "b958f55c-ffaa-4c5a-c4a7-5413e7a21ca8"
      },
      "outputs": [
        {
          "name": "stdout",
          "output_type": "stream",
          "text": [
            "[32, 38]\n"
          ]
        }
      ],
      "source": [
        "index = 0\n",
        "even_ages_of_students = []\n",
        "\n",
        "while index < len(ages):\n",
        "    if ages[index] % 2 == 0:\n",
        "        even_ages_of_students.append(ages[index])\n",
        "    index +=1\n",
        "\n",
        "\n",
        "print(even_ages_of_students)"
      ]
    },
    {
      "cell_type": "code",
      "execution_count": null,
      "metadata": {
        "colab": {
          "base_uri": "https://localhost:8080/"
        },
        "id": "ymDthUjTmN6V",
        "outputId": "03e8c618-df43-4181-fe2d-95bcd1a4b67e"
      },
      "outputs": [
        {
          "name": "stdout",
          "output_type": "stream",
          "text": [
            "32\n",
            "38\n"
          ]
        }
      ],
      "source": [
        "for i in (ages):\n",
        "    if i % 2 == 0:\n",
        "        print (i)"
      ]
    },
    {
      "cell_type": "code",
      "execution_count": null,
      "metadata": {
        "colab": {
          "base_uri": "https://localhost:8080/"
        },
        "id": "qihzvktcmRde",
        "outputId": "f66d19ea-5bd1-4fa6-9d97-91cbf4f1a5f0"
      },
      "outputs": [
        {
          "name": "stdout",
          "output_type": "stream",
          "text": [
            "32\n",
            "38\n"
          ]
        }
      ],
      "source": [
        "index = 0\n",
        "while index < len(ages):\n",
        "    if ages[index] %2 == 0:\n",
        "        print(ages[index])\n",
        "    index+=1"
      ]
    },
    {
      "cell_type": "code",
      "execution_count": null,
      "metadata": {
        "colab": {
          "base_uri": "https://localhost:8080/"
        },
        "id": "mUf6luLKmUUM",
        "outputId": "fe057d2c-52f9-4e56-870d-cb634721403e"
      },
      "outputs": [
        {
          "name": "stdout",
          "output_type": "stream",
          "text": [
            "2\n"
          ]
        },
        {
          "data": {
            "text/plain": [
              "93"
            ]
          },
          "execution_count": 19,
          "metadata": {},
          "output_type": "execute_result"
        }
      ],
      "source": [
        "numbers =[23,64,12,93,2,34,21]\n",
        "print(min(numbers))\n",
        "max(numbers)"
      ]
    },
    {
      "cell_type": "code",
      "execution_count": null,
      "metadata": {
        "colab": {
          "base_uri": "https://localhost:8080/"
        },
        "id": "eDouFZCgmX-w",
        "outputId": "d96b5a6f-438d-4add-91d0-0be6ad72e0c4"
      },
      "outputs": [
        {
          "name": "stdout",
          "output_type": "stream",
          "text": [
            "26\n",
            "30\n",
            "20\n",
            "15\n",
            "18\n",
            "19\n",
            "31\n",
            "29\n",
            "46\n",
            "17\n"
          ]
        }
      ],
      "source": [
        "customers=[1999, 1995, 2005, 2010, 2007, 2006, 1994, 1996, 1979, 2008]\n",
        "current_year = 2025\n",
        "\n",
        "for i in customers:\n",
        "    age_customer= current_year - i\n",
        "    print(age_customer)"
      ]
    },
    {
      "cell_type": "markdown",
      "metadata": {
        "id": "u47OdrsPEdk4"
      },
      "source": [
        "Exercise 11"
      ]
    },
    {
      "cell_type": "code",
      "execution_count": null,
      "metadata": {
        "colab": {
          "base_uri": "https://localhost:8080/"
        },
        "id": "N5VRJzQbOS0u",
        "outputId": "5246c7a8-d79b-4f20-c20a-78fe1586e6ab"
      },
      "outputs": [
        {
          "name": "stdout",
          "output_type": "stream",
          "text": [
            "Bob is 26 years old\n",
            "Jack is 30 years old\n",
            "Lisa is 20 years old\n",
            "Maria is 15 years old\n",
            "Ben is 18 years old\n",
            "Emma is 19 years old\n",
            "Oscar is 31 years old\n",
            "Amy is 29 years old\n",
            "Paul is 46 years old\n",
            "Etta is 17 years old\n"
          ]
        }
      ],
      "source": [
        "customer_list = [\n",
        "                    {\"name\": \"Bob\", \"age\": 1999},\n",
        "                    {\"name\": \"Jack\", \"age\": 1995},\n",
        "                    {\"name\": \"Lisa\", \"age\": 2005},\n",
        "                    {\"name\": \"Maria\", \"age\": 2010},\n",
        "                    {\"name\": \"Ben\", \"age\": 2007},\n",
        "                    {\"name\": \"Emma\", \"age\": 2006},\n",
        "                    {\"name\": \"Oscar\", \"age\": 1994},\n",
        "                    {\"name\": \"Amy\", \"age\": 1996},\n",
        "                    {\"name\": \"Paul\", \"age\": 1979},\n",
        "                    {\"name\": \"Etta\", \"age\": 2008}]\n",
        "current_year=2025\n",
        "\n",
        "for x in customer_list:\n",
        "    customer_name= x[\"name\"]\n",
        "    customer_age= current_year - x[\"age\"]\n",
        "    # print(f\"{customer_name}\")\n",
        "    # print(f\"{customer_age}\")\n",
        "    print(f\"{customer_name} is {customer_age} years old\")"
      ]
    },
    {
      "cell_type": "markdown",
      "metadata": {
        "id": "24uHKhmTH1_T"
      },
      "source": [
        "Exercise 12"
      ]
    },
    {
      "cell_type": "code",
      "execution_count": null,
      "metadata": {
        "colab": {
          "base_uri": "https://localhost:8080/"
        },
        "id": "_yjccXUPH5Tr",
        "outputId": "3682c2fd-26f1-4da4-f91b-04c3ec944735"
      },
      "outputs": [
        {
          "name": "stdout",
          "output_type": "stream",
          "text": [
            "9 40\n"
          ]
        }
      ],
      "source": [
        "ages = [20, 24, 14, 9, 12, 13, 25, 23, 40, 11]\n",
        "youngest = min(ages)\n",
        "oldest = max(ages)\n",
        "\n",
        "print(youngest, oldest)"
      ]
    },
    {
      "cell_type": "markdown",
      "metadata": {
        "id": "xIPccwgdIwDv"
      },
      "source": [
        "Exercise 12 not use max and min"
      ]
    },
    {
      "cell_type": "code",
      "execution_count": 2,
      "metadata": {
        "colab": {
          "base_uri": "https://localhost:8080/"
        },
        "id": "B6TYdHn_IzpY",
        "outputId": "ec28d952-e06c-400d-ec56-edadd55707fd"
      },
      "outputs": [
        {
          "name": "stdout",
          "output_type": "stream",
          "text": [
            "[9, 11, 12, 13, 14, 20, 23, 24, 25, 40]\n",
            "[11, 12, 13, 14, 20, 23, 24, 25, 40]\n",
            "[11, 12, 13, 14, 20, 23, 24, 25]\n"
          ]
        }
      ],
      "source": [
        "ages = [20, 24, 14, 9, 12, 13, 25, 23, 40, 11]\n",
        "\n",
        "ages = [20, 24, 14, 9, 12, 13, 25, 23, 40, 11]\n",
        "\n",
        "ages.sort()\n",
        "print(ages)\n",
        "del ages[0]\n",
        "print(ages)\n",
        "del ages[-1]\n",
        "print(ages)"
      ]
    },
    {
      "cell_type": "markdown",
      "metadata": {
        "id": "R0nqAsN2iwzR"
      },
      "source": [
        "Exercise 13"
      ]
    },
    {
      "cell_type": "code",
      "execution_count": 3,
      "metadata": {
        "colab": {
          "base_uri": "https://localhost:8080/"
        },
        "id": "Uwxgp9zDKoAb",
        "outputId": "cbe7bf78-3f2c-48fe-fd09-590ddf987a87"
      },
      "outputs": [
        {
          "name": "stdout",
          "output_type": "stream",
          "text": [
            "[15, 13, 16, 18, 19, 10]\n"
          ]
        }
      ],
      "source": [
        "berlin = [15, 13, 16, 18, 19, 10, 12 ]\n",
        "munich = [7, 13, 15, 20, 19, 18, 10, 16]\n",
        "common_age=[]\n",
        "\n",
        "for i in berlin:\n",
        "  if i in munich:\n",
        "    common_age.append(i)\n",
        "print(common_age)"
      ]
    },
    {
      "cell_type": "markdown",
      "metadata": {
        "id": "aMzeY8sTi_cC"
      },
      "source": [
        "Exercise 14"
      ]
    },
    {
      "cell_type": "code",
      "execution_count": null,
      "metadata": {
        "colab": {
          "base_uri": "https://localhost:8080/"
        },
        "id": "6sPUmEWXjEcu",
        "outputId": "8ceb6959-8ea0-41a0-83ab-ce732e450e80"
      },
      "outputs": [
        {
          "name": "stdout",
          "output_type": "stream",
          "text": [
            "[15, 13, 16, 18, 19, 10]\n"
          ]
        }
      ],
      "source": [
        "list_age= [15, 13, 16, 18, 19, 15, 10]\n",
        "\n",
        "unique_age= []\n",
        "\n",
        "for i in list_age:\n",
        "  if i not in unique_age:\n",
        "    unique_age.append(i)\n",
        "print(unique_age)\n"
      ]
    },
    {
      "cell_type": "markdown",
      "metadata": {
        "id": "ADTAth4hl5Gf"
      },
      "source": [
        "Exersice 15"
      ]
    },
    {
      "cell_type": "code",
      "execution_count": null,
      "metadata": {
        "colab": {
          "base_uri": "https://localhost:8080/"
        },
        "id": "5qYzrmFXl7WC",
        "outputId": "97810eeb-3adb-4642-ed36-09b472c6da64"
      },
      "outputs": [
        {
          "name": "stdout",
          "output_type": "stream",
          "text": [
            "Welcome Tiba, have a nice day! \n"
          ]
        }
      ],
      "source": [
        "def welcome(name):\n",
        "  print(f\"Welcome {name}, have a nice day! \")\n",
        "\n",
        "welcome(\"Tiba\")"
      ]
    },
    {
      "cell_type": "markdown",
      "metadata": {
        "id": "Uoqm0-t_mgXF"
      },
      "source": [
        "Exersice 16"
      ]
    },
    {
      "cell_type": "code",
      "execution_count": null,
      "metadata": {
        "colab": {
          "base_uri": "https://localhost:8080/"
        },
        "id": "WkXAiTnbmi81",
        "outputId": "8f1459f2-c74e-4a75-eca8-da61495a6a5c"
      },
      "outputs": [
        {
          "data": {
            "text/plain": [
              "4"
            ]
          },
          "execution_count": 9,
          "metadata": {},
          "output_type": "execute_result"
        }
      ],
      "source": [
        "def get_length(name):\n",
        "  return len(name)\n",
        "get_length(\"Tiba\")"
      ]
    },
    {
      "cell_type": "markdown",
      "metadata": {
        "id": "oAMzQTi1nEeM"
      },
      "source": [
        "Exersice 17"
      ]
    },
    {
      "cell_type": "code",
      "execution_count": null,
      "metadata": {
        "colab": {
          "base_uri": "https://localhost:8080/"
        },
        "id": "VieSZtoOnGsb",
        "outputId": "46f4b6b7-3d18-414b-e00b-021e04c88554"
      },
      "outputs": [
        {
          "name": "stdout",
          "output_type": "stream",
          "text": [
            "no\n"
          ]
        }
      ],
      "source": [
        "def check_even(int):\n",
        "  if int %2 == 0:\n",
        "    print(\"yes\")\n",
        "  else:\n",
        "    print(\"no\")\n",
        "check_even(5)"
      ]
    },
    {
      "cell_type": "markdown",
      "metadata": {
        "id": "XWNbkr3nnme7"
      },
      "source": [
        "Exercise 18"
      ]
    },
    {
      "cell_type": "code",
      "execution_count": null,
      "metadata": {
        "colab": {
          "base_uri": "https://localhost:8080/"
        },
        "id": "wjOAsgC6npXE",
        "outputId": "4b22b318-5320-43a8-b9db-4031312db2c8"
      },
      "outputs": [
        {
          "name": "stdout",
          "output_type": "stream",
          "text": [
            "Bob is 26 years old\n",
            "Jack is 30 years old\n",
            "Lisa is 20 years old\n",
            "Maria is 15 years old\n",
            "Ben is 18 years old\n",
            "Emma is 19 years old\n",
            "Oscar is 31 years old\n",
            "Amy is 29 years old\n",
            "Paul is 46 years old\n",
            "Etta is 17 years old\n"
          ]
        }
      ],
      "source": [
        "customer_list = [\n",
        "                    {\"name\": \"Bob\", \"age\": 1999},\n",
        "                    {\"name\": \"Jack\", \"age\": 1995},\n",
        "                    {\"name\": \"Lisa\", \"age\": 2005},\n",
        "                    {\"name\": \"Maria\", \"age\": 2010},\n",
        "                    {\"name\": \"Ben\", \"age\": 2007},\n",
        "                    {\"name\": \"Emma\", \"age\": 2006},\n",
        "                    {\"name\": \"Oscar\", \"age\": 1994},\n",
        "                    {\"name\": \"Amy\", \"age\": 1996},\n",
        "                    {\"name\": \"Paul\", \"age\": 1979},\n",
        "                    {\"name\": \"Etta\", \"age\": 2008}]\n",
        "def name_age(customers):\n",
        "  current_year=2025\n",
        "\n",
        "  for x in customer_list:\n",
        "    customer_name= x[\"name\"]\n",
        "    customer_age= current_year - x[\"age\"]\n",
        "    # print(f\"{customer_name}\")\n",
        "    # print(f\"{customer_age}\")\n",
        "    print(f\"{customer_name} is {customer_age} years old\")\n",
        "name_age(customer_list)"
      ]
    },
    {
      "cell_type": "code",
      "execution_count": null,
      "metadata": {
        "colab": {
          "base_uri": "https://localhost:8080/"
        },
        "id": "PMIS7-A1pCV4",
        "outputId": "a03378df-401b-458d-f157-2028667c77e5"
      },
      "outputs": [
        {
          "name": "stdout",
          "output_type": "stream",
          "text": [
            "11 40\n"
          ]
        }
      ],
      "source": [
        "ages = [20, 24, 14, 9, 12, 13, 25, 23, 40, 11]\n",
        "\n",
        "def age_(list_age):\n",
        "  compare_number=ages[0]\n",
        "\n",
        "  for i in list_age:\n",
        "    if i < compare_number:\n",
        "      youngest= i\n",
        "    elif i > compare_number:\n",
        "      oldest = i\n",
        "  print(youngest, oldest)\n",
        "\n",
        "age_(ages)"
      ]
    },
    {
      "cell_type": "code",
      "execution_count": null,
      "metadata": {
        "colab": {
          "base_uri": "https://localhost:8080/"
        },
        "id": "e9_0SK6HpxoK",
        "outputId": "85c7bf36-dd09-48c2-d51f-e61be1903dc8"
      },
      "outputs": [
        {
          "name": "stdout",
          "output_type": "stream",
          "text": [
            "[15, 13, 16, 18, 19, 10]\n"
          ]
        }
      ],
      "source": [
        "berlin = [15, 13, 16, 18, 19, 10, 12 ]\n",
        "munich = [7, 13, 15, 20, 19, 18, 10, 16]\n",
        "\n",
        "def common_age(list1,list2):\n",
        "  common_age=[]\n",
        "\n",
        "  for i in list1:\n",
        "    if i in list2:\n",
        "      common_age.append(i)\n",
        "  print(common_age)\n",
        "\n",
        "common_age(berlin,munich)"
      ]
    },
    {
      "cell_type": "code",
      "execution_count": null,
      "metadata": {
        "colab": {
          "base_uri": "https://localhost:8080/"
        },
        "id": "rr85BVbOqXhD",
        "outputId": "d38244e4-2df1-4c48-b044-646f8b9ff6d6"
      },
      "outputs": [
        {
          "name": "stdout",
          "output_type": "stream",
          "text": [
            "[15, 13, 16, 18, 19, 10]\n"
          ]
        }
      ],
      "source": [
        "age= [15, 13, 16, 18, 19, 15, 10]\n",
        "\n",
        "\n",
        "def unique_age(list_age):\n",
        "  unique_age= []\n",
        "\n",
        "  for i in list_age:\n",
        "    if i not in unique_age:\n",
        "      unique_age.append(i)\n",
        "  print(unique_age)\n",
        "\n",
        "unique_age(age)"
      ]
    },
    {
      "cell_type": "code",
      "execution_count": null,
      "metadata": {
        "colab": {
          "base_uri": "https://localhost:8080/"
        },
        "id": "Wp_2DhogkROG",
        "outputId": "cf6d5e62-753b-48d9-82b5-0164f6bc2816"
      },
      "outputs": [
        {
          "data": {
            "text/plain": [
              "False"
            ]
          },
          "execution_count": 3,
          "metadata": {},
          "output_type": "execute_result"
        }
      ],
      "source": [
        "def input_integer(target, list_of_input):\n",
        "  return target in list_of_input\n",
        "\n",
        "a =[1,2,3,4]\n",
        "\n",
        "input_integer(5,a)"
      ]
    }
  ],
  "metadata": {
    "colab": {
      "provenance": []
    },
    "kernelspec": {
      "display_name": "EDA",
      "language": "python",
      "name": "python3"
    },
    "language_info": {
      "codemirror_mode": {
        "name": "ipython",
        "version": 3
      },
      "file_extension": ".py",
      "mimetype": "text/x-python",
      "name": "python",
      "nbconvert_exporter": "python",
      "pygments_lexer": "ipython3",
      "version": "3.9.21"
    }
  },
  "nbformat": 4,
  "nbformat_minor": 0
}

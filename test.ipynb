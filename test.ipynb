{
 "cells": [
  {
   "cell_type": "code",
   "execution_count": 3,
   "metadata": {},
   "outputs": [
    {
     "name": "stdout",
     "output_type": "stream",
     "text": [
      "Tiba\n"
     ]
    }
   ],
   "source": [
    "my_name = \"Tiba\"\n",
    "print(my_name)"
   ]
  },
  {
   "cell_type": "code",
   "execution_count": 6,
   "metadata": {},
   "outputs": [
    {
     "name": "stdout",
     "output_type": "stream",
     "text": [
      "41\n"
     ]
    }
   ],
   "source": [
    "my_age = 41\n",
    "print(my_age)"
   ]
  },
  {
   "cell_type": "code",
   "execution_count": null,
   "metadata": {},
   "outputs": [
    {
     "name": "stdout",
     "output_type": "stream",
     "text": [
      "my age: 41\n",
      "age difference: -9\n"
     ]
    }
   ],
   "source": [
    "julia_age = 32\n",
    "age_diff = julia_age - my_age\n",
    "print(\"my age:\", my_age)\n",
    "print(\"age difference:\", age_diff)"
   ]
  },
  {
   "cell_type": "code",
   "execution_count": 11,
   "metadata": {},
   "outputs": [
    {
     "name": "stdout",
     "output_type": "stream",
     "text": [
      "I am older than Julia\n"
     ]
    }
   ],
   "source": [
    "if age_diff > 0:\n",
    "    print(\"I am younger than Julia\")\n",
    "elif age_diff < 0:\n",
    "    print(\"I am older than Julia\")\n",
    "else:\n",
    "    print(\"Julia and I are the same age\")"
   ]
  },
  {
   "cell_type": "code",
   "execution_count": 16,
   "metadata": {},
   "outputs": [
    {
     "name": "stdout",
     "output_type": "stream",
     "text": [
      "I am older than 21\n"
     ]
    }
   ],
   "source": [
    "if my_age > 21:\n",
    "    print(\"I am older than 21\")\n",
    "else:\n",
    "    print(\"I am younger than 21\")"
   ]
  },
  {
   "cell_type": "code",
   "execution_count": null,
   "metadata": {},
   "outputs": [
    {
     "name": "stdout",
     "output_type": "stream",
     "text": [
      "I am older than Julia\n"
     ]
    }
   ],
   "source": [
    "if my_age > julia_age:\n",
    "print(\"I am older than Julia\")\n",
    "elif my_age < julia_age:\n",
    "print(\"I am younger than Julia\")\n",
    "else:\n",
    "    print(\"I am the same age as Julia\")"
   ]
  },
  {
   "cell_type": "code",
   "execution_count": 11,
   "metadata": {},
   "outputs": [
    {
     "name": "stdout",
     "output_type": "stream",
     "text": [
      "['Emily', 'Gokce', 'Jost', 'Julien', 'Katha', 'Lucas', 'Marc', 'Muayed', 'Tiba']\n"
     ]
    }
   ],
   "source": [
    "class_name= [\"Tiba\", \"Gokce\", \"Julien\", \"Jost\", \"Muayed\", \"Katha\",\"Marc\",\"Emily\",\"Lucas\"]\n",
    "class_name.sort()\n",
    "print(class_name)\n"
   ]
  },
  {
   "cell_type": "code",
   "execution_count": 7,
   "metadata": {},
   "outputs": [
    {
     "name": "stdout",
     "output_type": "stream",
     "text": [
      "first name in the class: Emily\n"
     ]
    }
   ],
   "source": [
    "print(\"first name in the class:\",class_name[0])"
   ]
  },
  {
   "cell_type": "code",
   "execution_count": 5,
   "metadata": {},
   "outputs": [
    {
     "name": "stdout",
     "output_type": "stream",
     "text": [
      "last name in the class: Tiba\n"
     ]
    }
   ],
   "source": [
    "print(\"last name in the class:\",class_name[-1])"
   ]
  },
  {
   "cell_type": "code",
   "execution_count": 15,
   "metadata": {},
   "outputs": [
    {
     "name": "stdout",
     "output_type": "stream",
     "text": [
      "all the name in the class:\n",
      "Emily\n",
      "Gokce\n",
      "Jost\n",
      "Julien\n",
      "Katha\n",
      "Lucas\n",
      "Marc\n",
      "Muayed\n",
      "Tiba\n"
     ]
    }
   ],
   "source": [
    "print(\"all the name in the class:\") \n",
    "for name in class_name:\n",
    "    print(name)"
   ]
  },
  {
   "cell_type": "code",
   "execution_count": 3,
   "metadata": {},
   "outputs": [
    {
     "name": "stdout",
     "output_type": "stream",
     "text": [
      "all the ages of the group:\n",
      "32\n",
      "43\n",
      "41\n",
      "37\n",
      "39\n",
      "38\n"
     ]
    }
   ],
   "source": [
    "ages=[32,43,41,37,39,38]\n",
    "print(\"all the ages of the group:\")\n",
    "for age in ages:\n",
    "    print(age)\n"
   ]
  },
  {
   "cell_type": "code",
   "execution_count": 17,
   "metadata": {},
   "outputs": [
    {
     "name": "stdout",
     "output_type": "stream",
     "text": [
      "aven ages of students:\n",
      "32\n",
      "38\n"
     ]
    }
   ],
   "source": [
    "print(\"aven ages of students:\")\n",
    "for age in ages:\n",
    "    if age % 2 == 0:\n",
    "        print(age)"
   ]
  },
  {
   "cell_type": "code",
   "execution_count": 7,
   "metadata": {},
   "outputs": [
    {
     "data": {
      "text/plain": [
       "1"
      ]
     },
     "execution_count": 7,
     "metadata": {},
     "output_type": "execute_result"
    }
   ],
   "source": [
    " len(ages)\n",
    "index"
   ]
  },
  {
   "cell_type": "code",
   "execution_count": 17,
   "metadata": {},
   "outputs": [
    {
     "name": "stdout",
     "output_type": "stream",
     "text": [
      "[32, 38]\n"
     ]
    }
   ],
   "source": [
    "index = 0\n",
    "even_ages_of_students = []\n",
    "\n",
    "while index < len(ages):\n",
    "    if ages[index] % 2 == 0:\n",
    "        even_ages_of_students.append(ages[index])\n",
    "    index +=1\n",
    "\n",
    "\n",
    "print(even_ages_of_students)\n",
    "\n"
   ]
  },
  {
   "cell_type": "markdown",
   "metadata": {},
   "source": [
    "exersice 7 with for loop"
   ]
  },
  {
   "cell_type": "code",
   "execution_count": 20,
   "metadata": {},
   "outputs": [
    {
     "name": "stdout",
     "output_type": "stream",
     "text": [
      "32\n",
      "38\n"
     ]
    }
   ],
   "source": [
    "for i in (ages):\n",
    "    if i % 2 == 0:\n",
    "        print (i)\n"
   ]
  },
  {
   "cell_type": "markdown",
   "metadata": {},
   "source": [
    "exersice 7 with while "
   ]
  },
  {
   "cell_type": "code",
   "execution_count": 26,
   "metadata": {},
   "outputs": [
    {
     "name": "stdout",
     "output_type": "stream",
     "text": [
      "32\n",
      "38\n"
     ]
    }
   ],
   "source": [
    "index = 0\n",
    "while index < len(ages):\n",
    "    if ages[index] %2 == 0:\n",
    "        print(ages[index])\n",
    "    index+=1"
   ]
  },
  {
   "cell_type": "markdown",
   "metadata": {},
   "source": [
    "exersice 8 and 9"
   ]
  },
  {
   "cell_type": "code",
   "execution_count": 33,
   "metadata": {},
   "outputs": [
    {
     "name": "stdout",
     "output_type": "stream",
     "text": [
      "2\n"
     ]
    },
    {
     "data": {
      "text/plain": [
       "93"
      ]
     },
     "execution_count": 33,
     "metadata": {},
     "output_type": "execute_result"
    }
   ],
   "source": [
    "numbers =[23,64,12,93,2,34,21]\n",
    "print(min(numbers))\n",
    "max(numbers)"
   ]
  },
  {
   "cell_type": "markdown",
   "metadata": {},
   "source": [
    "Exercise 10"
   ]
  },
  {
   "cell_type": "code",
   "execution_count": 38,
   "metadata": {},
   "outputs": [
    {
     "name": "stdout",
     "output_type": "stream",
     "text": [
      "26\n",
      "30\n",
      "20\n",
      "15\n",
      "18\n",
      "19\n",
      "31\n",
      "29\n",
      "46\n",
      "17\n"
     ]
    }
   ],
   "source": [
    "customers=[1999, 1995, 2005, 2010, 2007, 2006, 1994, 1996, 1979, 2008]\n",
    "current_year = 2025 \n",
    "\n",
    "for i in customers:\n",
    "    age_customer= current_year - i \n",
    "    print(age_customer)"
   ]
  },
  {
   "cell_type": "markdown",
   "metadata": {},
   "source": [
    "Exercise 11 "
   ]
  }
 ],
 "metadata": {
  "kernelspec": {
   "display_name": "EDA",
   "language": "python",
   "name": "python3"
  },
  "language_info": {
   "codemirror_mode": {
    "name": "ipython",
    "version": 3
   },
   "file_extension": ".py",
   "mimetype": "text/x-python",
   "name": "python",
   "nbconvert_exporter": "python",
   "pygments_lexer": "ipython3",
   "version": "3.9.21"
  }
 },
 "nbformat": 4,
 "nbformat_minor": 2
}
